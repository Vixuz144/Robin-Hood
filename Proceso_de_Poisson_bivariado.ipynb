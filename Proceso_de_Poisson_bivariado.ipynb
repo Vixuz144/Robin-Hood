{
  "cells": [
    {
      "cell_type": "markdown",
      "metadata": {
        "id": "view-in-github",
        "colab_type": "text"
      },
      "source": [
        "<a href=\"https://colab.research.google.com/github/Vixuz144/Robin-Hood/blob/main/Proceso_de_Poisson_bivariado.ipynb\" target=\"_parent\"><img src=\"https://colab.research.google.com/assets/colab-badge.svg\" alt=\"Open In Colab\"/></a>"
      ]
    },
    {
      "cell_type": "markdown",
      "source": [
        "#Procesode Poisson Bivariado"
      ],
      "metadata": {
        "id": "B00V9M0UT5fK"
      }
    },
    {
      "cell_type": "markdown",
      "source": [
        "La necesidad de este método de generación de puntos aleatorios en el espacio $(\\mathbb{R}^2)$ surge al necesitar una técnica que genere los árboles del bosque de Sherwood. Para ello la primera implementación se hace con base en la descrita en el libro [ROSS]."
      ],
      "metadata": {
        "id": "ACqOZJy5UOkR"
      }
    },
    {
      "cell_type": "markdown",
      "metadata": {
        "id": "AzJS-n3AVw_X"
      },
      "source": [
        "#Simulación"
      ]
    },
    {
      "cell_type": "markdown",
      "metadata": {
        "id": "O6aAt2Jdhfp6"
      },
      "source": [
        "Se genera una secuencia de puntos aleatorios dentro de una circunferencia de radio r."
      ]
    },
    {
      "cell_type": "code",
      "execution_count": 2,
      "metadata": {
        "id": "GYgRJ2su3O21"
      },
      "outputs": [],
      "source": [
        "from random import random\n",
        "import numpy as np\n",
        "import matplotlib.pyplot as plt\n",
        "from numba import jit"
      ]
    },
    {
      "cell_type": "markdown",
      "metadata": {
        "id": "zSPpwH0LA0FH"
      },
      "source": [
        "Para la generación de números aleatorios del proceso, se usará la siguiente función, la cual genera un proceso de poisson bivariado. Toma tres parámetros de entrada:\n",
        "* r: radio del circulo dentro del cual se generarán los puntos aleatorios.\n",
        "* ρ: parámetro del proceso. Media de la generacián de números aleatorios respecto al eje r (coordenadas polares).\n",
        "* polar: Boleano que indica el tipo de coordenadas requeridas. En caso de ser *False* regresa los puntos aleatorios en coordenadas cartesianas. En caso de ser *True* regresa los puntos aleatorios en coordenadas polares.\n",
        "\n",
        "Salida:\n",
        "  * X, Y: Array's de coordenadas cartesianas corespondientes a los puntos aleatorios generados.\n",
        "  *  R, θ: Listas de coordenadas polares corespondientes a los puntos aleatorios generados.\n"
      ]
    },
    {
      "cell_type": "code",
      "execution_count": 3,
      "metadata": {
        "id": "NWCYychTZrXV"
      },
      "outputs": [],
      "source": [
        "def Poisson_bivariado(r, ρ, polar = False):\n",
        "  n = 0\n",
        "  X = []\n",
        "  while sum(X) <= np.pi*r**2:\n",
        "    n += 1\n",
        "    X.append(-np.log(random())/ρ)\n",
        "\n",
        "  R, θ = [], []\n",
        "  i = 1\n",
        "  while n>1 and i<n:\n",
        "    R.append(np.sqrt(sum(X[:i])/np.pi))\n",
        "    θ.append(2*np.pi*random())\n",
        "    i += 1\n",
        "\n",
        "  if polar:\n",
        "    plt.style.use('dark_background')\n",
        "    plt.axes(projection='polar')\n",
        "    plt.plot(R, θ, '.')\n",
        "    plt.plot(0,0,'w.')\n",
        "    plt.title('Proceso de Poisson Bivariado')\n",
        "    plt.grid(color='gray')\n",
        "    plt.show()\n",
        "    return R, θ\n",
        "  else:\n",
        "    X = R*np.cos(θ)\n",
        "    Y = R*np.sin(θ)\n",
        "\n",
        "    plt.style.use('dark_background')\n",
        "    plt.plot(X,Y, '.')\n",
        "    plt.plot(0,0,'w.')\n",
        "    plt.title('Proceso de Poisson Bivariado')\n",
        "    plt.grid(color='gray')\n",
        "    plt.show()\n",
        "    return X, Y"
      ]
    },
    {
      "cell_type": "markdown",
      "metadata": {
        "id": "DfVYlhQLWN9D"
      },
      "source": [
        "Con la anterior función se generarán dos listas de números aleatorios."
      ]
    },
    {
      "cell_type": "code",
      "execution_count": 4,
      "metadata": {
        "id": "f6Ch-4qlhoaK",
        "colab": {
          "base_uri": "https://localhost:8080/"
        },
        "outputId": "39b6c4c4-31b5-4e43-b48f-80e788208fa7"
      },
      "outputs": [
        {
          "output_type": "stream",
          "name": "stdout",
          "text": [
            "-14.0\n"
          ]
        }
      ],
      "source": [
        "radio = 24\n",
        "densidad = 24\n",
        "estrella = np.log10(10**-14)\n",
        "print(estrella)"
      ]
    },
    {
      "cell_type": "markdown",
      "metadata": {
        "id": "YVInlA8yhkJb"
      },
      "source": [
        "A continuaiòn se muestra una gráfica en cordenadas cartesianas para este proceso."
      ]
    },
    {
      "cell_type": "code",
      "execution_count": null,
      "metadata": {
        "id": "a7diVxEMa42t"
      },
      "outputs": [],
      "source": [
        "X, Y = Poisson_bivariado(radio, densidad)"
      ]
    },
    {
      "cell_type": "markdown",
      "metadata": {
        "id": "u2YAHx5dKmwx"
      },
      "source": [
        "Y ahora se muestra otra gráfica distinta del mismo proceso pero esta vez en coordenadas polares."
      ]
    },
    {
      "cell_type": "code",
      "execution_count": null,
      "metadata": {
        "id": "jCCEf4B1gX_i"
      },
      "outputs": [],
      "source": [
        "R, θ = Poisson_bivariado(radio, densidad, True)"
      ]
    },
    {
      "cell_type": "markdown",
      "metadata": {
        "id": "X-hvQW9XhYZb"
      },
      "source": [
        "Ahora, el siguiente paso será darle un grosor a cada punto. Para ello usaremos la siguinte función."
      ]
    },
    {
      "cell_type": "code",
      "execution_count": null,
      "metadata": {
        "id": "7xgq6d1eJQWy"
      },
      "outputs": [],
      "source": [
        "\n",
        "n = len(X)\n",
        "a = np.equal(X>0, True * np.ones(n))\n",
        "b = X[a]\n",
        "c = Y[a]\n",
        "# print(c)\n",
        "# print(b, len(b))\n",
        "i = np.argsort(b)\n",
        "\n",
        "xx = list(b[i])\n",
        "yy = list(c[i])\n",
        "\n",
        "plt.plot(xx,yy,'.')\n",
        "plt.xlim((-radio, radio))\n",
        "plt.show()\n",
        "\n",
        "# print(xx)\n",
        "# print(yy)\n",
        "r = 1\n",
        "rr = list(r * np.ones(len(xx)))\n",
        "# print(rr)\n",
        "\n",
        "for i in range(len(rr)):\n",
        "  if abs(yy[i]) < rr[i]:\n",
        "    print(f'Choca con el arbol en ({xx[i]},{yy[i]})')"
      ]
    }
  ],
  "metadata": {
    "colab": {
      "provenance": [],
      "authorship_tag": "ABX9TyNvdYVUnSGJc5KJbKA57Iod",
      "include_colab_link": true
    },
    "kernelspec": {
      "display_name": "Python 3",
      "name": "python3"
    },
    "language_info": {
      "name": "python"
    }
  },
  "nbformat": 4,
  "nbformat_minor": 0
}
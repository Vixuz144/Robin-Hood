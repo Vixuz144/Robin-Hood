{
  "nbformat": 4,
  "nbformat_minor": 0,
  "metadata": {
    "colab": {
      "provenance": [],
      "authorship_tag": "ABX9TyP+y5BYcR/U+XQ/5mkK9//n",
      "include_colab_link": true
    },
    "kernelspec": {
      "name": "python3",
      "display_name": "Python 3"
    },
    "language_info": {
      "name": "python"
    }
  },
  "cells": [
    {
      "cell_type": "markdown",
      "metadata": {
        "id": "view-in-github",
        "colab_type": "text"
      },
      "source": [
        "<a href=\"https://colab.research.google.com/github/Vixuz144/Robin-Hood/blob/main/Robin_Hood.ipynb\" target=\"_parent\"><img src=\"https://colab.research.google.com/assets/colab-badge.svg\" alt=\"Open In Colab\"/></a>"
      ]
    },
    {
      "cell_type": "markdown",
      "source": [
        "#Simulación"
      ],
      "metadata": {
        "id": "AzJS-n3AVw_X"
      }
    },
    {
      "cell_type": "markdown",
      "source": [
        "1. El primer paso es definir las variables que intervienen en el problema.\n",
        "\n",
        "Para ello, se desarrollarán las variables en coordenadas polares para luego transformarlas a coordenadas polares.\n",
        "\n",
        "* $Θ ∼ Exp[λ]$\n",
        "* $R ∼ U[0,\\mathcal{R}]$\n",
        "\n",
        "donde $\\mathcal{R}$ es el radio de un circulo dentro del cual se generarán las posiciones de los árboles y $λ$ es el parámetro del proceso de Poisson, lo cual para nuestro contexto será la densidad de árboles en el bosque de Sherwood (ρ).\n",
        "\n",
        "A partir de ambos parámetros es que se generará el proceso de Poisson que expresa la ubicación de los árboles del bosque de Sherwood."
      ],
      "metadata": {
        "id": "q-sTBwMbW0He"
      }
    },
    {
      "cell_type": "markdown",
      "source": [
        "2. En adición, las funcioness de distribución de probabilida de estas dos variables son:\n",
        "\n",
        "$$ f_Θ(θ) = λe^{-λθ}, \\quad \\textrm{para } θ \\geq 0, \\ θ\\in\\mathbb{R} $$\n",
        "$$ f_R(r) = \\frac{1}{\\mathcal{R}}, \\quad \\textrm{para } r \\in [0, \\mathcal{R}], \\ r\\in\\mathbb{R} $$\n",
        "\n"
      ],
      "metadata": {
        "id": "nyB9BQfraxLr"
      }
    },
    {
      "cell_type": "markdown",
      "source": [
        "3. Y las funciones de distribución acumulada de ambas variables son:\n",
        "\n"
      ],
      "metadata": {
        "id": "0ieE1d5cd89a"
      }
    },
    {
      "cell_type": "markdown",
      "source": [
        "$$ F_Θ(θ) = 1 - e^{-λθ}, \\quad \\textrm{para } θ \\geq 0, \\ θ\\in\\mathbb{R} $$\n",
        "$$ F_R(r) = \\frac{r}{\\mathcal{R}}, \\quad \\textrm{para } r \\in [0, \\mathcal{R}], \\ r\\in\\mathbb{R} $$"
      ],
      "metadata": {
        "id": "BtH1NuZMeNvz"
      }
    },
    {
      "cell_type": "markdown",
      "source": [
        "3. Con todo esto, podemos pasar a generar los árboles. Para lo cual haremos uso de la siguiente función."
      ],
      "metadata": {
        "id": "IKUGiE2iegbJ"
      }
    },
    {
      "cell_type": "code",
      "execution_count": null,
      "metadata": {
        "id": "fmE7qlODWsWQ"
      },
      "outputs": [],
      "source": [
        "from random import random, seed\n",
        "import numpy as np\n",
        "from scipy.stats import norm\n",
        "import matplotlib.pyplot as plt\n",
        "from numba import jit"
      ]
    },
    {
      "cell_type": "markdown",
      "source": [
        "Se establece la semilla para que el proceso pueda ser reproducible desde cualquier medio."
      ],
      "metadata": {
        "id": "dT_2sqWr3dOC"
      }
    },
    {
      "cell_type": "code",
      "source": [
        "seed(144)"
      ],
      "metadata": {
        "id": "h4qdf-ZH3c1F"
      },
      "execution_count": null,
      "outputs": []
    },
    {
      "cell_type": "code",
      "source": [
        "@jit(nopython = True)\n",
        "def bosque(r, ρ):\n",
        "  n = 0\n",
        "  X = []\n",
        "  while sum(X) <= np.pi*r**2:\n",
        "    n += 1\n",
        "    X.append(-np.log(random())/ρ)\n",
        "\n",
        "  R, θ = [], []\n",
        "  i = 1\n",
        "  while n>1 and i<n:\n",
        "    R.append(np.sqrt(sum(X[:i])/np.pi))\n",
        "    θ.append(2*np.pi*random())\n",
        "    i += 1\n",
        "\n",
        "  return R, θ"
      ],
      "metadata": {
        "id": "NWCYychTZrXV"
      },
      "execution_count": null,
      "outputs": []
    },
    {
      "cell_type": "markdown",
      "source": [
        "Esta función genera el proceso de Poisson bivariado.\n",
        "\n",
        "* Entradas:\n",
        "  * r: Radio del circulo dentro del cual se generarán los arboles. Debe ser positivo.\n",
        "  * ρ: Parámetro del proceso de Poisson (λ). Densidad media de arboles en el bosque de Sherwood. Debe ser positivo.\n",
        "\n",
        "\n",
        "* Salidas:\n",
        "  * X: Lista con las abscisas de las coordenadas de los arboles.\n",
        "  * Y: Lista con las ordenadas de las coordenadas de los arboles."
      ],
      "metadata": {
        "id": "_vfjF42IfVv4"
      }
    },
    {
      "cell_type": "markdown",
      "source": [
        "4. Ahora, veamos la ejecución de la función. Para ello consideraremos un radio de $100m$ y una densidad de $0.005\\frac{árboles}{m^2}$ para nuestra simulación."
      ],
      "metadata": {
        "id": "CsgKc5Lzgr0J"
      }
    },
    {
      "cell_type": "code",
      "source": [
        "radio = 100\n",
        "densidad = 0.005"
      ],
      "metadata": {
        "id": "YnHj_LkZg_TQ"
      },
      "execution_count": null,
      "outputs": []
    },
    {
      "cell_type": "code",
      "source": [
        "seed(144)\n",
        "R, θ = bosque(radio, densidad)\n",
        "X = R*np.cos(θ)\n",
        "Y = R*np.sin(θ)"
      ],
      "metadata": {
        "id": "TeUlgrbthCRQ"
      },
      "execution_count": null,
      "outputs": []
    },
    {
      "cell_type": "code",
      "source": [
        "plt.style.use('dark_background')\n",
        "plt.plot(X,Y, '.')\n",
        "plt.title('Proceso de Poisson Bivariado')\n",
        "plt.grid(color='gray')\n",
        "plt.show()"
      ],
      "metadata": {
        "colab": {
          "base_uri": "https://localhost:8080/",
          "height": 452
        },
        "id": "PJbEtuVleNUy",
        "outputId": "e6c56723-567e-4f1a-8c97-9d59782b6a51"
      },
      "execution_count": null,
      "outputs": [
        {
          "output_type": "display_data",
          "data": {
            "text/plain": [
              "<Figure size 640x480 with 1 Axes>"
            ],
            "image/png": "[encoded data removed]"
          },
          "metadata": {}
        }
      ]
    },
    {
      "cell_type": "markdown",
      "source": [
        "5. Implementación del arquero, Robin Hood.\n",
        "\n",
        "Para esste punto, ya tenemos la una pequeña parte de nuestra simulación armada. Ahora, vamos a agregar a nuestro coprotagonista del problema, Robin Hood. Para ello vamos a considerar que este famoso arquero se localiza en el centro de nuestro bosque de Sherwood. Y al lanzar una flecha en una dirección (cartesiana) aleatoria podrá impactarse y quedar fija en algún arbol. Ahora la dilemática está en ¿Cómo sabremos que la flecha queda incrustada o no en el árbol?.\n",
        "\n",
        "Para ello tendremos que saber que dimensiones tiene el arbol. Para lo cual consideremos de momento que el tronco del arbol es un cilindro de radio $r_a$. Con lo cual si la dirección de la flecha se intersecta con una circunferencia de radio $r_a$ con centro en las cordenadas de un árbol, habrá impactado con el árbol y diremos que ahí fue donde terminó la fleca tras el lanzamiento.\n",
        "\n",
        "Para programar esto, haremos uso de pequeños trucos Para ahorrar recursos computacionales.\n",
        "* Primero, en lugar de disparar una flecha en una dirección aleatoria vamos a dispararla en la dirección del eje positivo $x$, es decir, con dirección $(1, 0)$. esto ya que al generar un bosque aleatorio cada vez, será como haber elegido una dirección por la misma pseudo-aleatoriedad del proceso de Poisson.\n",
        "* Con ésta implementación ahora solo queda decidir cuando la flecha ha impactado con el arbol. Para lo cual descartaremos todos los arboles que tengan coordenadas negativas en su abscisa. Ya que no podrá llegar la flecha en esa dirección a menos que rebote.\n",
        "* Luego, en lugar de calcular la circunferencia de cada uno de los árboles, unicamente comprobaremos si la flecha pasa sí suficientemente cerca de los árboles. Para ello compararemos el radio de cada árbol en la media circunferencia con la distancia que hay del centro del árbol (coordenadas generadas por el proceso de Poisson) a la flecha, de manera que si la distancia es menor al radio la flecha habrá impactado, y en caso de que la distancia sea mayor al radio la flecha no habrá impactado.\n",
        "* Y el truquito final será como calcular la distancia del centro del árbol a la flecha, el cual será fácil gracias a tomar la dirección de la flecha como el eje $x$ positivo. Ya que se despreciará la coordenada en $x$ del árbol y de la flecha, resultando en que la distancia será el valor absoluto de la coordenada en $y$ del árbol.\n",
        "\n",
        "Lo único que resta antes de codificar estos trucos será considerar que la flecha se detiene cuando impacte el primer árbol. Por lo cual Robin deberá ir por su fleha hasta ese árbol en caso de querer recuperarla."
      ],
      "metadata": {
        "id": "jFEbphnEiA9R"
      }
    },
    {
      "cell_type": "code",
      "source": [
        "@jit(nopython = True)\n",
        "def disparo_flecha(X, Y, R, max_dist):\n",
        "  # X, Y = np.array(abscisas), np.array(ordenadas)\n",
        "  n = len(X)\n",
        "\n",
        "  pos = np.equal(X>0, True*np.ones(n))\n",
        "  X_pos, Y_pos, R_pos = X[pos], Y[pos], R[pos]\n",
        "\n",
        "  s = np.argsort(X_pos)\n",
        "  X, Y, R = X_pos[s], Y_pos[s], R_pos[s]\n",
        "  n = len(Y)\n",
        "\n",
        "  x, y, r = 0, 0, 0\n",
        "  for i in range(n):\n",
        "    if abs(Y[i]) <= R[i]:\n",
        "      x, y, r = X[i], Y[i], R[i]\n",
        "      break\n",
        "  if x != 0 or y!= 0:\n",
        "    d = x - np.sqrt(r**2 - y**2)\n",
        "  else:\n",
        "    d = max_dist\n",
        "  return x, y, d"
      ],
      "metadata": {
        "id": "74wNfjcyoLEq"
      },
      "execution_count": null,
      "outputs": []
    },
    {
      "cell_type": "code",
      "source": [
        "r_a = 1 * np.ones(len(X))\n",
        "x, y, d = disparo_flecha(X, Y, r_a, radio)\n",
        "\n",
        "print(f'La flecha impactó en el arbol con coordenadas ({x},{y}). La flecha recorrió {d}m')\n",
        "\n",
        "plt.plot(X, Y, '.', label='Forest')\n",
        "plt.plot(x, y, '.r')\n",
        "plt.plot((0,d), (0,0), ':+', color = 'yellow', label='Arrow trajectory')\n",
        "plt.plot(0, 0, '.w', label='Robin Hood')\n",
        "# plt.xlim(-x-10, x+10)\n",
        "# plt.ylim(-x-10, x+10)\n",
        "plt.title('Sherwood forest')\n",
        "plt.xlabel('m')\n",
        "plt.ylabel('m')\n",
        "plt.grid(color='gray')\n",
        "plt.legend()\n",
        "\n",
        "plt.savefig('Primera_graf')\n",
        "plt.show()"
      ],
      "metadata": {
        "colab": {
          "base_uri": "https://localhost:8080/",
          "height": 490
        },
        "id": "Loq3bWWGqAPf",
        "outputId": "2cf5bf49-8c2d-40f3-b35c-d49cd9c720e9"
      },
      "execution_count": null,
      "outputs": [
        {
          "output_type": "stream",
          "name": "stdout",
          "text": [
            "La flecha impactó en el arbol con coordenadas (5.517080333660565,-0.9622671447663886). La flecha recorrió 5.244973843287509m\n"
          ]
        },
        {
          "output_type": "display_data",
          "data": {
            "text/plain": [
              "<Figure size 640x480 with 1 Axes>"
            ],
            "image/png": "[encoded data removed]"
          },
          "metadata": {}
        }
      ]
    },
    {
      "cell_type": "markdown",
      "source": [
        "6. Ya que tenemos la simulación de un tiro, solo queda repetir los tiros varias veces para poder observar el comportamiento del proceso. De manera que podamos llegar al estado estable de la simulación. Para ello es que usaremos la siguiente función."
      ],
      "metadata": {
        "id": "Xp3VdYdPhjY1"
      }
    },
    {
      "cell_type": "code",
      "source": [
        "def experimento(R, ρ, r_a, n = 10**4):\n",
        "  l = []\n",
        "  for i in range(n):\n",
        "    r, t = bosque(R, ρ)\n",
        "    x = r*np.cos(t)\n",
        "    y = r*np.sin(t)\n",
        "    lra = r_a * np.ones(len(x))\n",
        "    _, _, d = disparo_flecha(x, y, lra, R)\n",
        "    l.append(d)\n",
        "  return l"
      ],
      "metadata": {
        "id": "8635Fqmhh9BB"
      },
      "execution_count": null,
      "outputs": []
    },
    {
      "cell_type": "code",
      "source": [
        "radio = 320\n",
        "densidad = 0.005\n",
        "r_a = 1\n",
        "n = 5*10**3"
      ],
      "metadata": {
        "id": "Wkc0IeLIUCeT"
      },
      "execution_count": null,
      "outputs": []
    },
    {
      "cell_type": "code",
      "source": [
        "l = experimento(radio, densidad, r_a, n)"
      ],
      "metadata": {
        "id": "Z6bg0gkOLSR2"
      },
      "execution_count": null,
      "outputs": []
    },
    {
      "cell_type": "code",
      "source": [
        "m = np.mean(l)\n",
        "d = np.std(l, ddof=1)\n",
        "z = norm.ppf(0.975)\n",
        "print(f'El intervalo de confianza del 95% es [{m - z*d/np.sqrt(n)}, {m + z*d/np.sqrt(n)}]')"
      ],
      "metadata": {
        "colab": {
          "base_uri": "https://localhost:8080/"
        },
        "id": "J5P-NPMHUFoa",
        "outputId": "540ee856-fe1e-4792-85b0-0704ebefac27"
      },
      "execution_count": null,
      "outputs": [
        {
          "output_type": "stream",
          "name": "stdout",
          "text": [
            "El intervalo de confianza del 95% es [94.272394916201, 105.03568129827434]\n"
          ]
        }
      ]
    },
    {
      "cell_type": "code",
      "source": [
        "@jit(nopython = True)\n",
        "def graf(l, p=1):\n",
        "  ls = []\n",
        "  for i in range(1,n):\n",
        "    a = np.array(l[:i:p])\n",
        "    ls.append(a.mean())\n",
        "\n",
        "  return ls\n",
        "\n",
        "ls = graf(l)\n",
        "\n",
        "plt.plot(ls)\n",
        "plt.xlabel('Iterations')\n",
        "plt.ylabel('Expected value')\n",
        "plt.savefig('Segunda_graf')\n",
        "plt.show()"
      ],
      "metadata": {
        "colab": {
          "base_uri": "https://localhost:8080/",
          "height": 449
        },
        "id": "wKosPA6_LiyM",
        "outputId": "b67f530c-dce0-4b08-93fb-dc197ddb17ac"
      },
      "execution_count": null,
      "outputs": [
        {
          "output_type": "display_data",
          "data": {
            "text/plain": [
              "<Figure size 640x480 with 1 Axes>"
            ],
            "image/png": "[encoded data removed]"
          },
          "metadata": {}
        }
      ]
    },
    {
      "cell_type": "code",
      "source": [
        "print(f'Hay un {100 * l.count(radio)/len(l)}% de flechas que recorren {radio}m y no impactan con ningún arbol')"
      ],
      "metadata": {
        "colab": {
          "base_uri": "https://localhost:8080/"
        },
        "id": "Wf-PICEvRkOc",
        "outputId": "e5ba03aa-9c74-45fa-bf78-ecb27f9141f0"
      },
      "execution_count": null,
      "outputs": [
        {
          "output_type": "stream",
          "name": "stdout",
          "text": [
            "Hay un 4.45% de flechas que recorren 320m y no impactan con ningún arbol\n"
          ]
        }
      ]
    },
    {
      "cell_type": "markdown",
      "source": [
        "7. Finalmente, repetimos el experimento varias veces para encontrar la media de medias muestrales, la cual será el valor más aproximado a la distancia media que recorrerá la flecha hasta chocar."
      ],
      "metadata": {
        "id": "Fct6GDp5IYXJ"
      }
    },
    {
      "cell_type": "code",
      "source": [
        "def rep(R, ρ, r_a, n = 10**3, n_rep = 10**2):\n",
        "  l = []\n",
        "  for i in range(n_rep):\n",
        "    d = experimento(R, ρ, r_a, n)\n",
        "    D = np.array(d)\n",
        "    l.append(D.mean())\n",
        "  return l"
      ],
      "metadata": {
        "id": "14Rz1l-KIYJA"
      },
      "execution_count": null,
      "outputs": []
    },
    {
      "cell_type": "code",
      "source": [
        "l = rep(radio, densidad, r_a, n = 10**3, n_rep = 10**2)"
      ],
      "metadata": {
        "id": "krn1R6MlJUoA"
      },
      "execution_count": null,
      "outputs": []
    },
    {
      "cell_type": "code",
      "source": [
        "print(np.mean(l))"
      ],
      "metadata": {
        "id": "-T2SxC_oJ9BI"
      },
      "execution_count": null,
      "outputs": []
    },
    {
      "cell_type": "markdown",
      "source": [
        "Aplicación de las estrellas."
      ],
      "metadata": {
        "id": "4-Q6VPoMVSee"
      }
    },
    {
      "cell_type": "code",
      "source": [
        "radio = 100\n",
        "densidad = 34.0261 #34026.1 Zm    #0.00003402610476Em\n",
        "estrella = 617.2 #61.72 Zm        #61720Em"
      ],
      "metadata": {
        "id": "TBpfJix2tWK9"
      },
      "execution_count": null,
      "outputs": []
    },
    {
      "cell_type": "code",
      "source": [
        "R, θ = bosque(radio, densidad)\n",
        "X = R*np.cos(θ)\n",
        "Y = R*np.sin(θ)"
      ],
      "metadata": {
        "id": "1v-Bi6M-uc_q"
      },
      "execution_count": null,
      "outputs": []
    },
    {
      "cell_type": "code",
      "source": [
        "plt.style.use('dark_background')\n",
        "plt.plot(X,Y, '.')\n",
        "plt.title('Proceso de Poisson Bivariado')\n",
        "plt.grid(color='gray')\n",
        "plt.show()"
      ],
      "metadata": {
        "id": "QvFxKY1CwVun"
      },
      "execution_count": null,
      "outputs": []
    },
    {
      "cell_type": "code",
      "source": [
        "R = 20\n",
        "dens = np.log10(10**9)\n",
        "r = np.log10(2 * 10**-14)\n",
        "n = 10\n",
        "print(dens, r)"
      ],
      "metadata": {
        "id": "P2rK3b9JVVrK"
      },
      "execution_count": null,
      "outputs": []
    },
    {
      "cell_type": "code",
      "source": [
        "le = experimento(R, dens, r, n)"
      ],
      "metadata": {
        "id": "Y9L7YDfKVhxU"
      },
      "execution_count": null,
      "outputs": []
    },
    {
      "cell_type": "code",
      "source": [
        "ll = []\n",
        "for i in range(1,n):\n",
        "  ll.append(np.mean(le[:i]))\n",
        "\n",
        "plt.plot(ll)\n",
        "plt.show()"
      ],
      "metadata": {
        "id": "9qAjJdRbWev1"
      },
      "execution_count": null,
      "outputs": []
    },
    {
      "cell_type": "code",
      "source": [
        "m = np.mean(le)\n",
        "d = np.std(le, ddof=1)\n",
        "z = norm.ppf(0.975)\n",
        "print(f'El intervalo de confianza del 95% es [{m - z*d/np.sqrt(n)}, {m + z*d/np.sqrt(n)}]')"
      ],
      "metadata": {
        "id": "U2vEv396Wtgm"
      },
      "execution_count": null,
      "outputs": []
    }
  ]
}